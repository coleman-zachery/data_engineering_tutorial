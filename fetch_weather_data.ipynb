{
 "cells": [
  {
   "cell_type": "code",
   "execution_count": null,
   "metadata": {},
   "outputs": [],
   "source": [
    "# get packages\n",
    "%pip install requests\n",
    "import requests\n",
    "import json\n",
    "\n",
    "LATITUDE = 40.44\n",
    "LONGITUDE = -79.99\n",
    "URL = f'https://api.open-meteo.com/v1/forecast?latitude={LATITUDE}&longitude={LONGITUDE}&daily=weather_code,temperature_2m_max,temperature_2m_min,precipitation_sum'\n",
    "\n",
    "response = requests.get(URL)\n",
    "data = response.json()\n",
    "\n",
    "# Print the fetched data (optional)\n",
    "print(json.dumps(data, indent=4))\n",
    "\n",
    "# Save data to JSON file\n",
    "with open('weather_data.json', 'w') as json_file:\n",
    "    json.dump(data, json_file, indent=4)\n"
   ]
  }
 ],
 "metadata": {
  "kernelspec": {
   "display_name": "Python 3",
   "language": "python",
   "name": "python3"
  },
  "language_info": {
   "codemirror_mode": {
    "name": "ipython",
    "version": 3
   },
   "file_extension": ".py",
   "mimetype": "text/x-python",
   "name": "python",
   "nbconvert_exporter": "python",
   "pygments_lexer": "ipython3",
   "version": "3.12.0"
  }
 },
 "nbformat": 4,
 "nbformat_minor": 2
}
