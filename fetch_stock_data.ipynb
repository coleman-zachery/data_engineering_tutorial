{
 "cells": [
  {
   "cell_type": "code",
   "execution_count": null,
   "metadata": {},
   "outputs": [],
   "source": [
    "%pip install requests\n",
    "%pip install pandas\n",
    "import requests\n",
    "import pandas as pd\n",
    "\n",
    "URL = 'https://www.alphavantage.co/query?function=TIME_SERIES_DAILY&symbol=IBM&apikey=demo'\n",
    "\n",
    "response = requests.get(URL)\n",
    "data = response.json()\n",
    "\n",
    "# Extract the time series data\n",
    "time_series_data = data[\"Time Series (Daily)\"]\n",
    "\n",
    "# Convert the time series data to a DataFrame\n",
    "df = pd.DataFrame.from_dict(time_series_data, orient='index')\n",
    "\n",
    "# Reset index to make the date a column\n",
    "df.reset_index(inplace=True)\n",
    "df.rename(columns={'index': 'Date'}, inplace=True)\n",
    "\n",
    "# Convert data types as needed (e.g., to float)\n",
    "df = df.astype({\n",
    "    '1. open': 'float',\n",
    "    '2. high': 'float',\n",
    "    '3. low': 'float',\n",
    "    '4. close': 'float',\n",
    "    '5. volume': 'int'\n",
    "})\n",
    "\n",
    "df.to_csv('ibm_stock_data.csv', index=False)\n",
    "\n",
    "display(df)"
   ]
  }
 ],
 "metadata": {
  "kernelspec": {
   "display_name": "Python 3",
   "language": "python",
   "name": "python3"
  },
  "language_info": {
   "codemirror_mode": {
    "name": "ipython",
    "version": 3
   },
   "file_extension": ".py",
   "mimetype": "text/x-python",
   "name": "python",
   "nbconvert_exporter": "python",
   "pygments_lexer": "ipython3",
   "version": "3.12.0"
  }
 },
 "nbformat": 4,
 "nbformat_minor": 2
}
